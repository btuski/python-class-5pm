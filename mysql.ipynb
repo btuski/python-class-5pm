{
 "cells": [
  {
   "cell_type": "code",
   "execution_count": 2,
   "id": "aabdcc53",
   "metadata": {},
   "outputs": [],
   "source": [
    "import mysql.connector # Importing database\n",
    "database = mysql.connector.connect(\n",
    "    host ='localhost',\n",
    "    user = 'root',\n",
    "    password = \"\",\n",
    "    database = 'class4pm'\n",
    ")\n",
    "db = database.cursor()\n"
   ]
  },
  {
   "cell_type": "code",
   "execution_count": 5,
   "id": "00a77175",
   "metadata": {},
   "outputs": [],
   "source": [
    "sql = \"INSERT INTO student (name, roll, physics, chemistry, math, english, nepali, total, per) VALUES ('Shyam', 35, 69, 49, 86, 47, 67, 89, 78 )\"\n",
    "db.execute(sql)\n",
    "database.commit()"
   ]
  },
  {
   "cell_type": "code",
   "execution_count": 6,
   "id": "dfd09b14",
   "metadata": {},
   "outputs": [
    {
     "name": "stdout",
     "output_type": "stream",
     "text": [
      "(1, 'Ram', 1, 78, 89, 95, 69, 66, 305, 89.0)\n",
      "(2, 'Shyam', 35, 69, 49, 86, 47, 67, 89, 78.0)\n",
      "(3, 'Shyam', 35, 69, 49, 86, 47, 67, 89, 78.0)\n"
     ]
    }
   ],
   "source": [
    "db.execute(\"SELECT * FROM student\")\n",
    "\n",
    "result = db.fetchall()\n",
    "for x in result:\n",
    "    print(x)"
   ]
  }
 ],
 "metadata": {
  "kernelspec": {
   "display_name": "Python 3 (ipykernel)",
   "language": "python",
   "name": "python3"
  },
  "language_info": {
   "codemirror_mode": {
    "name": "ipython",
    "version": 3
   },
   "file_extension": ".py",
   "mimetype": "text/x-python",
   "name": "python",
   "nbconvert_exporter": "python",
   "pygments_lexer": "ipython3",
   "version": "3.8.2"
  }
 },
 "nbformat": 4,
 "nbformat_minor": 5
}
